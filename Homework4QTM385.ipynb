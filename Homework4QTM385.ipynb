{
 "cells": [
  {
   "cell_type": "markdown",
   "metadata": {},
   "source": [
    "# QTM 385\n",
    "\n",
    "***\n",
    "\n",
    "## Homework 4\n",
    "\n",
    "Student: [2328506]"
   ]
  },
  {
   "cell_type": "markdown",
   "metadata": {},
   "source": [
    "In this homework, we will create an object called Student, that is useful for a professor to store information about a student."
   ]
  },
  {
   "cell_type": "markdown",
   "metadata": {},
   "source": [
    "\n",
    "***\n",
    "\n",
    "### Question 1\n",
    "\n",
    "Create a class Student, that has:\n",
    "\n",
    "0. Id number (5-digits integer, starting with 1)\n",
    "1. First Name (str)\n",
    "2. Last Name (str)\n",
    "3. Grades (list of floats)\n",
    "4. Credits (list of integers)\n",
    "5. Major (str)\n",
    "\n",
    "Provide a constructor for your class and create one fictitious student."
   ]
  },
  {
   "cell_type": "code",
   "execution_count": 274,
   "metadata": {},
   "outputs": [],
   "source": [
    "# Your answer here\n",
    "class Student:\n",
    "        \n",
    "    def __init__(self, id_number, first, last, gr, credits, major):\n",
    "        self.id_number = id_number\n",
    "        self.first = first\n",
    "        self.last = last\n",
    "        self.grade = gr\n",
    "        self.credits = credits\n",
    "        self.major = major\n",
    "    \n",
    "    def set_id_number(self, id_number):\n",
    "        self.id_number = id_number\n",
    "    \n",
    "    def set_first(self, first):\n",
    "        self.first = first\n",
    "    \n",
    "    def set_last(self, last):\n",
    "        self.last = last\n",
    "    \n",
    "    def set_grade(self, gr):\n",
    "        self.gr = gr\n",
    "    \n",
    "    def set_credits(self, credits):\n",
    "        self.credits = credits\n",
    "    \n",
    "    def set_major(self, major):\n",
    "        self.major = major"
   ]
  },
  {
   "cell_type": "code",
   "execution_count": 276,
   "metadata": {},
   "outputs": [],
   "source": [
    "stu = Student(12345, 'Chelsey', 'Kim',  [9.8, 10, 9.9], [3.0, 2.0, 4.0], 'Psychology')"
   ]
  },
  {
   "cell_type": "markdown",
   "metadata": {},
   "source": [
    "\n",
    "***\n",
    "\n",
    "### Question 2\n",
    "\n",
    "Create a method to nicely display the student when we type `print`. It should display, for example:\n",
    "\n",
    "```\n",
    "Student:\n",
    "    Id: 12345\n",
    "    Name: Mig, Umberto\n",
    "    Major: QSS\n",
    "```\n",
    "\n",
    "Create a method that, when a variable storing a student is typed in the console, displays:\n",
    "\n",
    "```\n",
    "Student(Mig, Umberto; 12345)\n",
    "```\n",
    "\n",
    "Provide some testing with a fictitious result of your choice."
   ]
  },
  {
   "cell_type": "code",
   "execution_count": 277,
   "metadata": {},
   "outputs": [],
   "source": [
    "# Your answer here\n",
    "\n",
    "class Student:\n",
    "        \n",
    "    def __init__(self, id_number, first, last, gr, credits, major):\n",
    "        self.id_number = id_number\n",
    "        self.first = first\n",
    "        self.last = last\n",
    "        self.grade = gr\n",
    "        self.credits = credits\n",
    "        self.major = major\n",
    "    \n",
    "    def set_id_number(self, id_number):\n",
    "        self.id_number = id_number\n",
    "    \n",
    "    def set_first(self, first):\n",
    "        self.first = first\n",
    "    \n",
    "    def set_last(self, last):\n",
    "        self.last = last\n",
    "    \n",
    "    def set_grade(self, gr):\n",
    "        self.gr = gr\n",
    "    \n",
    "    def set_credits(self, credits):\n",
    "        self.credits = credits\n",
    "    \n",
    "    def set_major(self, major):\n",
    "        self.major = major\n",
    "    \n",
    "    def __str__(self):\n",
    "        st_info = \"\"\"\n",
    "Student:\n",
    "    ID: {id_number}\n",
    "    Name: {last}, {first}\n",
    "    Major: {major}\n",
    "    \"\"\".format(id_number = self.id_number, last = self.last, first = self.first, major = self.major)\n",
    "        return st_info\n",
    "    \n",
    "    def __repr__(self):\n",
    "        return \"Student({last}, {first}; {id_number})\".format(id_number = self.id_number, last = self.last, first = self.first)\n",
    "    \n",
    "    "
   ]
  },
  {
   "cell_type": "code",
   "execution_count": 278,
   "metadata": {},
   "outputs": [],
   "source": [
    "stu = Student(12345, 'Chelsey', 'Kim',  [9.8, 10, 9.9], [3.0, 2.0, 4.0], 'Psychology')"
   ]
  },
  {
   "cell_type": "code",
   "execution_count": 279,
   "metadata": {},
   "outputs": [
    {
     "name": "stdout",
     "output_type": "stream",
     "text": [
      "\n",
      "Student:\n",
      "    ID: 12345\n",
      "    Name: Kim, Chelsey\n",
      "    Major: Psychology\n",
      "    \n"
     ]
    }
   ],
   "source": [
    "print(stu)"
   ]
  },
  {
   "cell_type": "code",
   "execution_count": 280,
   "metadata": {},
   "outputs": [
    {
     "data": {
      "text/plain": [
       "Student(Kim, Chelsey; 12345)"
      ]
     },
     "execution_count": 280,
     "metadata": {},
     "output_type": "execute_result"
    }
   ],
   "source": [
    "stu"
   ]
  },
  {
   "cell_type": "markdown",
   "metadata": {},
   "source": [
    "\n",
    "***\n",
    "\n",
    "### Question 3\n",
    "\n",
    "Implement class methods for:\n",
    "\n",
    "1. Check if the id number is valid (remember: 5 digits, starting with number one)\n",
    "2. Check if the grades list has the same length as the credits list. The idea is that every grade corresponds to a course that gave the student a certain amount of credits.\n",
    "3. Append grade and credit: given a grade, and credits attached to the grade, append both to each respective place.\n",
    "\n",
    "Test your function with a toy student of your choice."
   ]
  },
  {
   "cell_type": "code",
   "execution_count": 313,
   "metadata": {},
   "outputs": [],
   "source": [
    "# Your answer here\n",
    "\n",
    "class Student:\n",
    "        \n",
    "    def __init__(self, id_number, first, last, gr, credits, major):\n",
    "        self.id_number = id_number\n",
    "        self.first = first\n",
    "        self.last = last\n",
    "        self.grade = gr\n",
    "        self.credits = credits\n",
    "        self.major = major\n",
    "        \n",
    "        if len(str(id_number)) != 5 or list(str(id_number))[0] != '1':\n",
    "            print('Error: ID is not valid\\n')\n",
    "        elif len(self.grade) != len(self.credits):\n",
    "            print('Error: Number of grades does not match number of courses taken.')\n",
    "    \n",
    "    def set_id_number(self, id_number):\n",
    "        self.id_number = id_number\n",
    "    \n",
    "    def set_first(self, first):\n",
    "        self.first = first\n",
    "    \n",
    "    def set_last(self, last):\n",
    "        self.last = last\n",
    "    \n",
    "    def set_grade(self, gr):\n",
    "        self.gr = gr\n",
    "        \n",
    "    def append_grade(self, g, c):\n",
    "        self.grade.append(g)\n",
    "        self.credits.append(c)\n",
    "    \n",
    "    def set_credits(self, credits):\n",
    "        self.credits = credits\n",
    "    \n",
    "    def set_major(self, major):\n",
    "        self.major = major\n",
    "        \n",
    "        \n",
    "    def __str__(self):\n",
    "        st_info = \"\"\"\n",
    "Student:\n",
    "    ID: {id_number}\n",
    "    Name: {last}, {first}\n",
    "    Major: {major}\n",
    "    \"\"\".format(id_number = self.id_number, last = self.last, first = self.first, major = self.major)\n",
    "        return st_info\n",
    "    \n",
    "    def __repr__(self):\n",
    "        return \"Student({last}, {first}; {id_number})\".format(id_number = self.id_number, last = self.last, first = self.first)"
   ]
  },
  {
   "cell_type": "code",
   "execution_count": 297,
   "metadata": {},
   "outputs": [
    {
     "name": "stdout",
     "output_type": "stream",
     "text": [
      "Error: ID is not valid\n",
      "\n"
     ]
    }
   ],
   "source": [
    "stu1 = Student(139285, 'Chelsey', 'Kim',  [9.8, 10, 9.9], [3.0, 2.0, 4.0], 'Psychology')"
   ]
  },
  {
   "cell_type": "code",
   "execution_count": 298,
   "metadata": {},
   "outputs": [
    {
     "name": "stdout",
     "output_type": "stream",
     "text": [
      "Error: Number of grades does not match number of courses taken.\n"
     ]
    }
   ],
   "source": [
    "stu2 = Student(12853, 'Sam', 'Smith',  [9, 8, 7.5], [2.0, 3.0, 3.0, 1.0], 'QSS')"
   ]
  },
  {
   "cell_type": "code",
   "execution_count": 318,
   "metadata": {},
   "outputs": [],
   "source": [
    "stu3 = Student(18173, 'Justin', 'Beiber',  [9.8, 10, 9.9], [3.0, 2.0, 4.0], 'Economics')"
   ]
  },
  {
   "cell_type": "code",
   "execution_count": 319,
   "metadata": {},
   "outputs": [],
   "source": [
    "stu3.append_grade(9, 1.0)"
   ]
  },
  {
   "cell_type": "code",
   "execution_count": 320,
   "metadata": {},
   "outputs": [
    {
     "data": {
      "text/plain": [
       "[9.8, 10, 9.9, 9]"
      ]
     },
     "execution_count": 320,
     "metadata": {},
     "output_type": "execute_result"
    }
   ],
   "source": [
    "stu3.grade"
   ]
  },
  {
   "cell_type": "code",
   "execution_count": 322,
   "metadata": {},
   "outputs": [
    {
     "data": {
      "text/plain": [
       "[3.0, 2.0, 4.0, 1.0]"
      ]
     },
     "execution_count": 322,
     "metadata": {},
     "output_type": "execute_result"
    }
   ],
   "source": [
    "stu3.credits"
   ]
  },
  {
   "cell_type": "markdown",
   "metadata": {},
   "source": [
    "\n",
    "***\n",
    "\n",
    "### Question 4\n",
    "\n",
    "Create a module in the class Student that computes the unweighted average of the student's grades."
   ]
  },
  {
   "cell_type": "code",
   "execution_count": 326,
   "metadata": {},
   "outputs": [],
   "source": [
    "# Your answer here\n",
    "\n",
    "class Student:\n",
    "        \n",
    "    def __init__(self, id_number, first, last, gr, credits, major):\n",
    "        self.id_number = id_number\n",
    "        self.first = first\n",
    "        self.last = last\n",
    "        self.grade = gr\n",
    "        self.credits = credits\n",
    "        self.major = major\n",
    "        \n",
    "        if len(str(id_number)) != 5 or list(str(id_number))[0] != '1':\n",
    "            print('Error: ID is not valid\\n')\n",
    "        elif len(self.grade) != len(self.credits):\n",
    "            print('Error: Number of grades does not match number of courses taken.')\n",
    "    \n",
    "    def set_id_number(self, id_number):\n",
    "        self.id_number = id_number\n",
    "    \n",
    "    def set_first(self, first):\n",
    "        self.first = first\n",
    "    \n",
    "    def set_last(self, last):\n",
    "        self.last = last\n",
    "    \n",
    "    def set_grade(self, gr):\n",
    "        self.gr = gr\n",
    "        \n",
    "    def append_grade(self, g, c):\n",
    "        self.grade.append(g)\n",
    "        self.credits.append(c)\n",
    "    \n",
    "    def set_credits(self, credits):\n",
    "        self.credits = credits\n",
    "    \n",
    "    def set_major(self, major):\n",
    "        self.major = major\n",
    "        \n",
    "    def avg_grades(self):\n",
    "        avg = 0\n",
    "        for i in self.grade:\n",
    "            avg += i\n",
    "        avg = avg / len(self.grade)\n",
    "        return avg\n",
    "        \n",
    "    def __str__(self):\n",
    "        st_info = \"\"\"\n",
    "Student:\n",
    "    ID: {id_number}\n",
    "    Name: {last}, {first}\n",
    "    Major: {major}\n",
    "    \"\"\".format(id_number = self.id_number, last = self.last, first = self.first, major = self.major)\n",
    "        return st_info\n",
    "    \n",
    "    def __repr__(self):\n",
    "        return \"Student({last}, {first}; {id_number})\".format(id_number = self.id_number, last = self.last, first = self.first)\n",
    "    \n",
    "    "
   ]
  },
  {
   "cell_type": "code",
   "execution_count": 343,
   "metadata": {},
   "outputs": [],
   "source": [
    "stu4 = Student(19824, 'Taylor', 'Swift',  [9.8, 10, 9], [3.0, 2.0, 4.0], 'Music')"
   ]
  },
  {
   "cell_type": "code",
   "execution_count": 344,
   "metadata": {},
   "outputs": [
    {
     "data": {
      "text/plain": [
       "9.6"
      ]
     },
     "execution_count": 344,
     "metadata": {},
     "output_type": "execute_result"
    }
   ],
   "source": [
    "stu4.avg_grades()"
   ]
  },
  {
   "cell_type": "markdown",
   "metadata": {},
   "source": [
    "\n",
    "***\n",
    "\n",
    "### Question 5\n",
    "\n",
    "Create a module in the class Student that computes the weighted average of the student's grades, weighted by the credits."
   ]
  },
  {
   "cell_type": "code",
   "execution_count": 342,
   "metadata": {},
   "outputs": [],
   "source": [
    "# Your answer here\n",
    "\n",
    "class Student:\n",
    "        \n",
    "    def __init__(self, id_number, first, last, gr, credits, major):\n",
    "        self.id_number = id_number\n",
    "        self.first = first\n",
    "        self.last = last\n",
    "        self.grade = gr\n",
    "        self.credits = credits\n",
    "        self.major = major\n",
    "        \n",
    "        if len(str(id_number)) != 5 or list(str(id_number))[0] != '1':\n",
    "            print('Error: ID is not valid\\n')\n",
    "        elif len(self.grade) != len(self.credits):\n",
    "            print('Error: Number of grades does not match number of courses taken.')\n",
    "    \n",
    "    def set_id_number(self, id_number):\n",
    "        self.id_number = id_number\n",
    "    \n",
    "    def set_first(self, first):\n",
    "        self.first = first\n",
    "    \n",
    "    def set_last(self, last):\n",
    "        self.last = last\n",
    "    \n",
    "    def set_grade(self, gr):\n",
    "        self.gr = gr\n",
    "        \n",
    "    def append_grade(self, g, c):\n",
    "        self.grade.append(g)\n",
    "        self.credits.append(c)\n",
    "    \n",
    "    def set_credits(self, credits):\n",
    "        self.credits = credits\n",
    "    \n",
    "    def set_major(self, major):\n",
    "        self.major = major\n",
    "        \n",
    "    def avg_grades(self):\n",
    "        avg = 0\n",
    "        for i in self.grade:\n",
    "            avg += i\n",
    "        avg = avg / len(self.grade)\n",
    "        return avg\n",
    "    \n",
    "    def weighted_grade(self):\n",
    "        new = []\n",
    "        total = 0\n",
    "        total_credits = 0\n",
    "        for i in range(0, len(self.grade)):\n",
    "            new.append(self.grade[i] * self.credits[i])\n",
    "        for i in new:\n",
    "            total += i\n",
    "        for i in self.credits:\n",
    "            total_credits += i\n",
    "        return total/total_credits\n",
    "        \n",
    "    def __str__(self):\n",
    "        st_info = \"\"\"\n",
    "Student:\n",
    "    ID: {id_number}\n",
    "    Name: {last}, {first}\n",
    "    Major: {major}\n",
    "    \"\"\".format(id_number = self.id_number, last = self.last, first = self.first, major = self.major)\n",
    "        return st_info\n",
    "    \n",
    "    def __repr__(self):\n",
    "        return \"Student({last}, {first}; {id_number})\".format(id_number = self.id_number, last = self.last, first = self.first)\n"
   ]
  },
  {
   "cell_type": "code",
   "execution_count": 339,
   "metadata": {},
   "outputs": [
    {
     "data": {
      "text/plain": [
       "9.488888888888889"
      ]
     },
     "execution_count": 339,
     "metadata": {},
     "output_type": "execute_result"
    }
   ],
   "source": [
    "stu4.weighted_grade()"
   ]
  },
  {
   "cell_type": "markdown",
   "metadata": {},
   "source": [
    "**That's all, folks!**"
   ]
  }
 ],
 "metadata": {
  "kernelspec": {
   "display_name": "Python 3",
   "language": "python",
   "name": "python3"
  },
  "language_info": {
   "codemirror_mode": {
    "name": "ipython",
    "version": 3
   },
   "file_extension": ".py",
   "mimetype": "text/x-python",
   "name": "python",
   "nbconvert_exporter": "python",
   "pygments_lexer": "ipython3",
   "version": "3.8.8"
  }
 },
 "nbformat": 4,
 "nbformat_minor": 4
}

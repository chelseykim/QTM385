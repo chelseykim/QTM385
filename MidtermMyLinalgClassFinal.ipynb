{
 "cells": [
  {
   "cell_type": "markdown",
   "id": "07e6385b",
   "metadata": {},
   "source": [
    "# QTM 385\n",
    "\n",
    "***\n",
    "\n",
    "## Midterm\n",
    "\n",
    "Student: [2328506]"
   ]
  },
  {
   "cell_type": "markdown",
   "id": "99ae1dd8",
   "metadata": {},
   "source": [
    "***\n",
    "\n",
    "## Computational Linear Algebra in Python: Regression Calculator\n",
    "\n",
    "In this midterm, you will create a class to work with matrices. The objective is to run a regression.\n",
    "\n",
    "The class name should be `Matrix.` To make it easier for you to code and for me to grade, I suggest the following step-by-step:\n",
    "\n",
    "### 1. **constructor** (1 pt):\n",
    "\n",
    "In the constructor, the user should pass a list of numbers and a number of rows. Example:\n",
    "\n",
    "```\n",
    "m = Matrix([1,2,3,1,2,4], 2)\n",
    "```\n",
    "\n",
    "It should then store the following inside the memory:\n",
    "\n",
    "```\n",
    "print(m.mat)\n",
    "[[1,2,3],[1,2,4]]\n",
    "\n",
    "print(m.dim)\n",
    "[2, 3]\n",
    "```\n",
    "\n",
    "Representing the 2 x 3 matrix:\n",
    "\n",
    "|1, 2, 3|<br>\n",
    "|4, 5, 6|\n",
    "\n",
    "### 2. **\\_\\_str\\_\\_**, **\\_\\_repr\\_\\_**, and **is_square** (1 pt):\n",
    "\n",
    "Implement the **\\_\\_repr\\_\\_** for displaying the following:\n",
    "\n",
    "```\n",
    "m\n",
    "Matrix dimension [2, 3]\n",
    "```\n",
    "\n",
    "You should also implement a **\\_\\_str\\_\\_** representation for your matrix. For example, for the previous matrix:\n",
    "\n",
    "```\n",
    "print(m)\n",
    "[1, 2, 3]\n",
    "[4, 5, 6]\n",
    "```\n",
    "\n",
    "Finally, implement an **is_square** method that returns `True` when the matrix is square. Example:\n",
    "\n",
    "```\n",
    "m1 = Matrix([1,2,3,1,2,4], 2)\n",
    "m2 = Matrix([-2,-1,2,2,1,4,-3,3,-1], 3)\n",
    "\n",
    "print(m1.is_square())\n",
    "False\n",
    "\n",
    "print(m2.is_square())\n",
    "True\n",
    "```\n",
    "\n",
    "### 3. **\\_\\_add\\_\\_** and **\\_\\_sub\\_\\_** (1 pt):\n",
    "\n",
    "You will implement two methods: the sum of matrices (**\\_\\_add\\_\\_**) and the subtraction (**\\_\\_sub\\_\\_**). Using these methods ensures that the operations `m1 + m2` and `m1 - m2` are well-defined.\n",
    "\n",
    "Remember that sum and subtraction are only defined if the matrices have the same size. I advise you to do the following:\n",
    "\n",
    "```\n",
    "...some code before...\n",
    "\n",
    "    if ---matrix-do-not-conform-test---:\n",
    "        raise ValueError('Error. The matrices do not conform.')\n",
    "    else:\n",
    "        ...code here...\n",
    "\n",
    "...some code after...\n",
    "```\n",
    "\n",
    "This raises an error and tells the user about it.\n",
    "\n",
    "For the theory on matrix summation, see: https://en.wikipedia.org/wiki/Matrix_addition\n",
    "\n",
    "### 4. Implement a method for scalar multiplication (**\\_\\_mul\\_\\_**) (1 pt)\n",
    "\n",
    "In this part, you will implement the method to do scalar multiplications. For the theory regarding scalar multiplication, see: https://en.wikipedia.org/wiki/Scalar_multiplication\n",
    "\n",
    "The multiplication should proceed as follows:\n",
    "\n",
    "```\n",
    "m = Matrix([1,2,3,1,2,4], 2)\n",
    "\n",
    "print(m)\n",
    "[1, 2, 3]\n",
    "[1, 2, 4]\n",
    "\n",
    "print(m * 2)\n",
    "[2, 4, 6]\n",
    "[2, 4, 8]\n",
    "```\n",
    "\n",
    "Note that `2 * m` in matrix algebra is well-defined, but your method should throw an error.\n",
    "\n",
    "### 5. Implement a method to extract rows (**exrow**) and columns (**excol**) of a matrix (1 pt)\n",
    "\n",
    "These two methods are auxiliary to matrix multiplication. They are going to make it easy to do the matrix multiplication.\n",
    "\n",
    "For the row extraction, the input is the matrix and a row. It should return a list with the row. One example is:\n",
    "\n",
    "```\n",
    "m = Matrix([1,2,3,1,2,4], 2)\n",
    "\n",
    "print(m)\n",
    "[1, 2, 3]\n",
    "[1, 2, 4]\n",
    "\n",
    "print(m.exrow(0))\n",
    "[1, 2, 3]\n",
    "\n",
    "print(m.exrow(1))\n",
    "[1, 2, 4]\n",
    "```\n",
    "\n",
    "And if you choose a row that does not exist, it should throw an error (e.g., 'Error. Invalid row.').\n",
    "\n",
    "For the column extraction, the input is the matrix and a column. It should return a list with the column. One example is:\n",
    "\n",
    "```\n",
    "m = Matrix([1,2,3,1,2,4], 2)\n",
    "\n",
    "print(m)\n",
    "[1, 2, 3]\n",
    "[1, 2, 4]\n",
    "\n",
    "print(m.excol(0))\n",
    "[1, 1]\n",
    "\n",
    "print(m.excol(2))\n",
    "[3, 4]\n",
    "```\n",
    "\n",
    "Again, if you choose a column that does not exist, it should throw an error (e.g., 'Error. Invalid column.').\n",
    "\n",
    "### 6. Implement the matrix multiplication method (**\\_\\_pow\\_\\_**) (1 pt)\n",
    "\n",
    "For learning how matrix multiplication works, check: https://en.wikipedia.org/wiki/Matrix_multiplication\n",
    "\n",
    "In this method, you will implement the following operation:\n",
    "\n",
    "```\n",
    "m1 = Matrix([1,2,3,4,5,6,7,8,9], 3)\n",
    "m2 = Matrix([1,2,3,1,2,4], 3)\n",
    "\n",
    "print(m1)\n",
    "[1, 2, 3]\n",
    "[4, 5, 6]\n",
    "[7, 8, 9]\n",
    "\n",
    "print(m2)\n",
    "[1, 2]\n",
    "[3, 1]\n",
    "[2, 4]\n",
    "\n",
    "print(m1 ** m2)\n",
    "[13, 16]\n",
    "[31, 37]\n",
    "[49, 58]\n",
    "```\n",
    "\n",
    "Note that if you try `m2 ** m1`, it should throw an error (e.g. 'Error. Matrices do not conform for multiplication.').\n",
    "\n",
    "**Hint:** You can use the **excol** and **exrow** methods to extract the rows and columns. Then, check the definition of a dot product: https://en.wikipedia.org/wiki/Dot_product. This should be exactly what you should do with the row and column that you extracted.\n",
    "\n",
    "\n",
    "### 7. Implement the submatrix method for computing minors (**subm**) (1 pt)\n",
    "\n",
    "This method is auxiliary. You will need it to compute the determinant.\n",
    "\n",
    "If you are not sure what a minor is, check this: https://en.wikipedia.org/wiki/Minor_(linear_algebra)\n",
    "\n",
    "To compute the minor, you have to extract a submatrix. For example, if the matrix is:\n",
    "\n",
    "```\n",
    "m = Matrix([1,2,3,4,5,6,7,8,9], 3)\n",
    "\n",
    "print(m)\n",
    "[1, 2, 3]\n",
    "[4, 5, 6]\n",
    "[7, 8, 9]\n",
    "```\n",
    "\n",
    "The minor $M_{2,2}$ is the submatrix:\n",
    "\n",
    "```\n",
    "print(m.subm(1,1))\n",
    "[1, 3]\n",
    "[7, 9]\n",
    "```\n",
    "\n",
    "I.e., you should delete the second row and column:\n",
    "\n",
    "```\n",
    "[1, -, 3]\n",
    "[-, -, -]\n",
    "[7, -, 9]\n",
    "```\n",
    "\n",
    "And return the remaining numbers as a matrix.\n",
    "\n",
    "\n",
    "### 8. Implement the determinant method (**det**) (1 pt)\n",
    "\n",
    "First, if the user tries to compute the determinant in a non-square matrix, the code should throw an error (e.g. 'Error. Matrix is not square.'). Else, it should start the computations.\n",
    "\n",
    "If you don't know what a recursive function is, please read the following entry: https://pythonnumericalmethods.berkeley.edu/notebooks/chapter06.01-Recursive-Functions.html\n",
    "\n",
    "If you don't remember much about how to compute the determinant, check the cofactor expansion method here: https://en.wikipedia.org/wiki/Minor_(linear_algebra)\n",
    "\n",
    "We are going to compute the determinant by using a method called cofactor expansion. It consists of computing the determinant recursively, using the relevant cofactors.\n",
    "\n",
    "The way I solved was:\n",
    "\n",
    "```\n",
    "...some code before...\n",
    "if --matrix_is_2x2--:\n",
    "    return --we-know-the-determinant-here--\n",
    "else:\n",
    "    for --iteration-in-expansion--:\n",
    "        --computations-and-recursion--\n",
    "...some code after...\n",
    "```\n",
    "\n",
    "One code that could give you guidance is in here: https://en.wikipedia.org/wiki/Laplace_expansion\n",
    "\n",
    "To use as examples:\n",
    "\n",
    "```\n",
    "m = Matrix([-2,-1,2,2,1,4,-3,3,-1], 3)\n",
    "\n",
    "print(m)\n",
    "[-2, -1, 2]\n",
    "[2, 1, 4]\n",
    "[-3, 3, -1]\n",
    "\n",
    "m.det()\n",
    "54\n",
    "```\n",
    "\n",
    "And:\n",
    "\n",
    "```\n",
    "m = Matrix([1,2,3,4,5,6,7,8,9], 3)\n",
    "\n",
    "print(m)\n",
    "[1, 2, 3]\n",
    "[4, 5, 6]\n",
    "[7, 8, 9]\n",
    "\n",
    "m.det()\n",
    "0\n",
    "```\n",
    "\n",
    "### 9. Implement the cofactor matrix calculator (**cofm**) and the transpose calculator (**t**) (1 pt)\n",
    "\n",
    "To compute the cofactors, you should use the determinants and the submatrices as above. Example of cofactor computations:\n",
    "\n",
    "```\n",
    "m = Matrix([1,2,3,4,5,6,7,8,9], 3)\n",
    "\n",
    "print(m)\n",
    "[1, 2, 3]\n",
    "[4, 5, 6]\n",
    "[7, 8, 9]\n",
    "\n",
    "print(m.cofm())\n",
    "[-3, 6, -3]\n",
    "[6, -12, 6]\n",
    "[-3, 6, -3]\n",
    "```\n",
    "\n",
    "Or, for a non-singular matrix:\n",
    "\n",
    "```\n",
    "m = Matrix([1,2,3,4,5,6,7,8,9], 3)\n",
    "\n",
    "print(m)\n",
    "[-2, -1, 2]\n",
    "[2, 1, 4]\n",
    "[-3, 3, -1]\n",
    "\n",
    "print(m.cofm())\n",
    "[-13, -10, 9]\n",
    "[5, 8, 9]\n",
    "[-6, 12, 0]\n",
    "```\n",
    "\n",
    "Next, you need to implement a method to compute the transpose. If you are not sure what a transpose matrix is, please read: https://en.wikipedia.org/wiki/Transpose\n",
    "\n",
    "For example:\n",
    "\n",
    "```\n",
    "m = Matrix([1,2,3,4,5,6,7,8,9], 3)\n",
    "\n",
    "print(m)\n",
    "[-2, -1, 2]\n",
    "[2, 1, 4]\n",
    "[-3, 3, -1]\n",
    "\n",
    "print(m.cofm())\n",
    "[-13, -10, 9]\n",
    "[5, 8, 9]\n",
    "[-6, 12, 0]\n",
    "\n",
    "print(m.cofm().t())\n",
    "[-13, 5, -6]\n",
    "[-10, 8, 12]\n",
    "[9, 9, 0]\n",
    "```\n",
    "\n",
    "### 10. Compute the inverse matrix calculator (**inv**) (1 pt):\n",
    "\n",
    "If you did all the steps before, the inverse matrix is going to be straightforward:\n",
    "\n",
    "$$ A^{-1} = \\dfrac{1}{det(A)}C^t $$\n",
    "\n",
    "Where $C$ is the cofactor matrix. For example:\n",
    "\n",
    "```\n",
    "m = Matrix([1,2,3,4,5,6,7,8,9], 3)\n",
    "\n",
    "print(m)\n",
    "[-2, -1, 2]\n",
    "[2, 1, 4]\n",
    "[-3, 3, -1]\n",
    "\n",
    "print(m.inv())\n",
    "[-0.24074074074074073, 0.09259259259259259, -0.1111111111111111]\n",
    "[-0.18518518518518517, 0.14814814814814814, 0.2222222222222222]\n",
    "[0.16666666666666666, 0.16666666666666666, 0.0]\n",
    "```\n",
    "\n",
    "### 11. Compute the regression coefficients for the following matrix (1 pt):\n",
    "\n",
    "The formula for the regression is:\n",
    "\n",
    "$$ \\beta = (X^tX)^{-1}X^ty $$\n",
    "\n",
    "Where $X^t$ is the transpose of $X$. If we have the following data matrix **X**:\n",
    "\n",
    "```\n",
    "X = Matrix([1, -4, 0, 1, -3, 0, 1, -2, 0, 1, -1, 0, 1, 0, 0, 1, 1, 1, 1, 2, 1, 1, 3, 1, 1, 4, 1, 1, 5, 1], 10)\n",
    "```\n",
    "\n",
    "And the data **y**:\n",
    "\n",
    "```\n",
    "y = Matrix([-3.56518269407931, -2.96460021969053, -1.48659413971178, 0.700322671620325, 0.902347734124384, 1.29721825127923, 1.92302031156774, 3.88376671356276, 2.23958110933972, 6.5610333044646], 10)\n",
    "```\n",
    "\n",
    "This represents the formula:\n",
    "\n",
    "$$ y = X\\beta + \\varepsilon $$\n",
    "\n",
    "And for each individual coefficient:\n",
    "\n",
    "$$ y_i = \\beta_0 + \\beta_1 X1_i + \\beta_2 X2_i + \\varepsilon_i $$\n",
    "\n",
    "Computing the formula on these data, you should find a vector of coefficients close to:\n",
    "\n",
    "```\n",
    "[1.0616761356387148]\n",
    "[1.1722087325930488]\n",
    "[-1.3973783953750463]\n",
    "```\n",
    "\n",
    "Which represents:\n",
    "\n",
    "$$ y_i = 1.06 + 1.17 X1 - 1.40 X2 + \\varepsilon_i $$\n",
    "\n",
    "Congrats! You just created a Python package to compute regressions!\n",
    "\n",
    "\n",
    "## **Hints and rules:**\n",
    "\n",
    "1. You cannot use numpy or pandas. In fact, you cannot use any methods besides the default methods.\n",
    "\n",
    "2. In the example coding below, I put URLs that I checked to code the key. Use these URLs. Your job is to transform the ideas there into coding.\n",
    "\n",
    "3. Efficiency is essential, but getting it done is even more critical. Get the first version done, and then check for redundant computations.\n",
    "\n",
    "4. How did I solve it? I implemented one method at a time in the way I described in the questions. The order of the questions is a good predictor of what should be done first and next.\n",
    "\n",
    "5. This is a challenging midterm. It took me six times more than a regular problem set. To do well, you should start as soon as possible.\n",
    "\n",
    "6. The Laplace expansion is computationally expensive. If you want to try to do LU decomposition, please let me know.\n",
    "\n",
    "\n",
    "## **Good luck!**"
   ]
  },
  {
   "cell_type": "code",
   "execution_count": 5076,
   "id": "797e0257",
   "metadata": {},
   "outputs": [],
   "source": [
    "# Your answers here\n",
    "\n",
    "class Matrix:\n",
    "    \"\"\"\n",
    "    Matrix Class\n",
    "    \n",
    "    Great to do Linear Algebra!\n",
    "    \"\"\"\n",
    "    # Constructor\n",
    "    def __init__(self, num, nrow):\n",
    "        \"\"\"\n",
    "        Constructor:\n",
    "        Receives:\n",
    "            num: list of numbers\n",
    "            nrow: number of rows\n",
    "        \n",
    "        Return: \n",
    "            Matrix object\n",
    "        \n",
    "        \"\"\"\n",
    "        self.num = num\n",
    "        self.nrow = nrow\n",
    "        self.mat = [num[x:x+int(len(num) / nrow)] for x in range(0, len(num), int(len(num) / nrow))]\n",
    "        self.dim = [nrow,int(len(self.mat[0]))]\n",
    "        \n",
    "        \n",
    "    # Print represetation\n",
    "    def __str__(self):\n",
    "        \"\"\"\n",
    "        Prints the matrix when using the command print()\n",
    "        \"\"\"    \n",
    "        new = \"\"\n",
    "        for i in range(len(self.mat)):\n",
    "            new += (str(self.mat[i])) + '\\n'\n",
    "        return new\n",
    "    \n",
    "         \n",
    "    \n",
    "    # Representation\n",
    "    def __repr__(self):\n",
    "        \"\"\"\n",
    "        __repr__:\n",
    "            Prints the object description\n",
    "            In this case, the matrix\n",
    "        \"\"\"\n",
    "        return \"Matrix dimension {dim}\".format(dim = self.dim)\n",
    "    \n",
    "    # Test to see if square matrix\n",
    "    def is_square(self):\n",
    "        \"\"\"\n",
    "        is_square:\n",
    "            Receives:\n",
    "                Matrix\n",
    "                \n",
    "            Return:\n",
    "                True if the matrix is square\n",
    "                False otherwise\n",
    "        \"\"\"\n",
    "        if int(len(self.mat[0])) == self.nrow:\n",
    "            return True\n",
    "        return False\n",
    "        \n",
    "    # Addition (see https://en.wikipedia.org/wiki/Matrix_addition)\n",
    "    def __add__(self, other):\n",
    "        \"\"\"\n",
    "        __add__:\n",
    "            Implements the sum of matrices\n",
    "            \n",
    "            Receives:\n",
    "                Two matrices\n",
    "                \n",
    "            Returns\n",
    "                Subtraction of matrices as a Matrix or error if not conform\n",
    "        \"\"\"\n",
    "        if self.dim != other.dim:\n",
    "            raise ValueError('Error. The matrices do not conform.') \n",
    "        else:\n",
    "            res = []\n",
    "            for i in range(len(self.num)):\n",
    "                res.append(self.num[i] + other.num[i])\n",
    "        \n",
    "        new = Matrix(res, len(self.mat))\n",
    "        return new\n",
    "    \n",
    "    \n",
    "    # Subtraction\n",
    "    def __sub__(self, other):\n",
    "        \"\"\"\n",
    "        __sub__:\n",
    "            Implements the subtraction of two matrices\n",
    "            \n",
    "            Receives:\n",
    "                Two matrices\n",
    "                \n",
    "            Returns:\n",
    "                Subtraction of matrices as a Matrix or error if not conform\n",
    "        \"\"\"\n",
    "        if self.dim != other.dim:\n",
    "            raise ValueError('Error. The matrices do not conform.') \n",
    "        else:\n",
    "            res = []\n",
    "            for i in range(len(self.num)):\n",
    "                res.append(self.num[i] - other.num[i])\n",
    "        \n",
    "        new = Matrix(res, len(self.mat))\n",
    "        return new\n",
    "        \n",
    "    # Scalar multiplication (https://en.wikipedia.org/wiki/Scalar_multiplication)\n",
    "    def __mul__(self, num):\n",
    "        \"\"\"\n",
    "        __mul__:\n",
    "            Implements scalar multiplication\n",
    "            \n",
    "            Receives:\n",
    "                Matrix\n",
    "                float or int\n",
    "                \n",
    "            Returns:\n",
    "                Matrix\n",
    "        \"\"\"\n",
    "        res1 = []\n",
    "        for i in range(len(self.num)):\n",
    "            res1.append(self.num[i] * num)\n",
    "        \n",
    "        new = Matrix(res1, len(self.mat))\n",
    "        return new\n",
    "    \n",
    "    # Extract row\n",
    "    def exrow(self, i):\n",
    "        \"\"\"\n",
    "        exrow:\n",
    "            Extracts row of a Matrix\n",
    "            \n",
    "            Receives:\n",
    "                Matrix\n",
    "                Index (int)\n",
    "                \n",
    "            Returns:\n",
    "                List with row or error if index out of bounds\n",
    "        \"\"\"\n",
    "        for j in range(len(self.mat)):\n",
    "            new9 = []\n",
    "            if i > (len(self.mat)-1) or i < 0:\n",
    "                raise ValueError('Error. Invalid row.')\n",
    "            else:\n",
    "                for k in range(len(self.mat[i])):\n",
    "                    new9.append(self.mat[i][k])\n",
    "                return new9\n",
    "\n",
    "    \n",
    "    # Extract column\n",
    "    def excol(self, i):\n",
    "        \"\"\"\n",
    "        exrow:\n",
    "            Extracts column of a Matrix\n",
    "            \n",
    "            Receives:\n",
    "                Matrix\n",
    "                Index (int)\n",
    "                \n",
    "            Returns:\n",
    "                List with column or error if index out of bounds\n",
    "        \"\"\"\n",
    "\n",
    "        for j in range(0, int(len(self.mat[0]))):\n",
    "            if i > int(len(self.mat[0])-1) or i < 0:\n",
    "                raise ValueError('Error. Invalid column.')\n",
    "            else:\n",
    "                new1 = []\n",
    "                for k in range(0, len(self.mat)):\n",
    "                    new1.append(self.mat[k][i])\n",
    "                return new1\n",
    "                \n",
    "\n",
    "    \n",
    "    # Matrix multiplication (see https://en.wikipedia.org/wiki/Matrix_multiplication)\n",
    "    def __pow__(self, other):\n",
    "        \"\"\"\n",
    "        __pow__:\n",
    "            Implements the product of two matrices\n",
    "            \n",
    "            Receives:\n",
    "                Two Matrices\n",
    "                \n",
    "            Returns:\n",
    "                Matrix or error if not conform\n",
    "        \"\"\"\n",
    "        result = []\n",
    "        result_add = []\n",
    "        total = 0 \n",
    "        if other.nrow != len(self.mat[0]):\n",
    "            raise ValueError('Error. Matrices do not conform for multiplication.')\n",
    "        else:\n",
    "            for i in range(0, len(self.mat)):\n",
    "                for j in range(0, len(other.mat[0])):\n",
    "                    hi = self.exrow(i)\n",
    "                    bye = other.excol(j)\n",
    "                    res_list = []\n",
    "                    for k in range(0, len(hi)):\n",
    "                        res_list.append(hi[k] * bye[k])\n",
    "                    result.append(sum(res_list))\n",
    "        \n",
    "        \n",
    "        new = Matrix(result, len(self.mat))\n",
    "        return new\n",
    "    \n",
    "    # Extract submatrix for minor (see https://en.wikipedia.org/wiki/Minor_(linear_algebra))\n",
    "    def subm(self, row, col):\n",
    "        \"\"\"\n",
    "        subm:\n",
    "            Extracts a submatrix for minor and cofactor computations\n",
    "            \n",
    "            Receives:\n",
    "                Matrix\n",
    "                row (int)\n",
    "                col (int)\n",
    "                \n",
    "            Returns:\n",
    "                Matrix\n",
    "        \"\"\"\n",
    "        new = [row[:col] + row[col+1:] for row in (self.mat[:row]+self.mat[row+1:])]\n",
    "        flat_list = [item for sublist in new for item in sublist]\n",
    "        result = Matrix(flat_list, len(self.mat)-1)\n",
    "        return result\n",
    "                \n",
    "   \n",
    "    # Determinant (see https://en.wikipedia.org/wiki/Determinant)\n",
    "    def det(self):\n",
    "        \"\"\"\n",
    "        det:\n",
    "            Compute the determinant of a matrix by cofactor expansion\n",
    "            \n",
    "            Receives:\n",
    "                Matrix\n",
    "                \n",
    "            Returns:\n",
    "                float, int or an error if matrix is not square.\n",
    "        \"\"\"\n",
    "        if self.nrow != len(self.mat[0]):\n",
    "            raise ValueError('Error. Matrix is not square.')\n",
    "        if self.nrow == 2 and len(self.mat[0]) == 2:\n",
    "            return (self.mat[0][0] * self.mat[1][1]) - (self.mat[0][1] * self.mat[1][0])\n",
    "        else:\n",
    "            determinant = 0\n",
    "            for c in range(len(self.mat)):\n",
    "                new = self.subm(0,c)\n",
    "                determinant += ((-1)**c) * self.mat[0][c] * new.det()\n",
    "            return determinant\n",
    "\n",
    "        \n",
    "                \n",
    "    \n",
    "    # Transpose\n",
    "    def t(self):\n",
    "        \"\"\"\n",
    "        t:\n",
    "            Computes the transpose of a matrix\n",
    "            \n",
    "            Receives:\n",
    "                Matrix\n",
    "                \n",
    "            Returns:\n",
    "                Matrix\n",
    "        \"\"\"\n",
    "\n",
    "        rows = len(self.mat)\n",
    "        columns = len(self.mat[0])\n",
    "        transposed = []\n",
    "        for j in range(columns):\n",
    "            row = []\n",
    "            for i in range(rows):\n",
    "                row.append(self.mat[i][j])\n",
    "            transposed.append(row) \n",
    "        flat_list = [item for sublist in transposed for item in sublist]\n",
    "        result = Matrix(flat_list, len(self.mat[0]))\n",
    "        return result\n",
    "       \n",
    "        \n",
    "        \n",
    "\n",
    "    # Cofactor matrix (see https://en.wikipedia.org/wiki/Minor_(linear_algebra))\n",
    "    def cofm(self):\n",
    "        \"\"\"\n",
    "        cofm:\n",
    "            Computes the Cofactor Matrix\n",
    "            \n",
    "            Receives:\n",
    "                Matrix\n",
    "                \n",
    "            Returns:\n",
    "                Matrix or error if matrix not square.\n",
    "        \"\"\"\n",
    "        cofactors = []\n",
    "        for j in range(len(self.mat)):\n",
    "            row = []\n",
    "            for i in range(len(self.mat)):\n",
    "                subm = self.subm(j,i)\n",
    "                row.append(((-1)**(j+i)) * subm.det())\n",
    "            cofactors.append(row)\n",
    "    \n",
    "        flat_list = [item for sublist in cofactors for item in sublist]\n",
    "        result = Matrix(flat_list, len(self.mat))\n",
    "        return result\n",
    "    \n",
    "    \n",
    "    \n",
    "    # Inverse matrix (see the inverse definition after buiding the cofactor matrix: \n",
    "    #                 https://en.wikipedia.org/wiki/Minor_(linear_algebra))\n",
    "    def inv(self):\n",
    "        \"\"\"\n",
    "        inv:\n",
    "            Computes Inverse Matrix using cofactor matrix\n",
    "            \n",
    "            Receives:\n",
    "                Matrix\n",
    "                \n",
    "            Returns:\n",
    "                Matrix or error if matrix is singular or not square.\n",
    "        \"\"\"\n",
    "        determinant = self.det()\n",
    "        if len(self.mat) == 2:\n",
    "            transposed = [[self.mat[1][1]/determinant, -1*self.mat[0][1]/determinant], [-1*self.mat[1][0]/determinant, self.mat[0][0]/determinant]]\n",
    "        else:\n",
    "            transposed = self.cofm().t()\n",
    "            transposed = transposed.mat\n",
    "            for r in range(len(transposed)):\n",
    "                for c in range(len(transposed)):\n",
    "                    transposed[r][c] = transposed[r][c]/determinant\n",
    "        flat_list = [item for sublist in transposed for item in sublist]\n",
    "        result = Matrix(flat_list, len(self.mat))\n",
    "        return result\n",
    "    "
   ]
  },
  {
   "cell_type": "markdown",
   "id": "5ce8b9f7",
   "metadata": {},
   "source": [
    "__1. Constructor__"
   ]
  },
  {
   "cell_type": "code",
   "execution_count": 5077,
   "id": "b52eac1c",
   "metadata": {},
   "outputs": [],
   "source": [
    "m = Matrix([1,2,3,1,2,4], 2)"
   ]
  },
  {
   "cell_type": "code",
   "execution_count": 5078,
   "id": "4266e20d",
   "metadata": {},
   "outputs": [
    {
     "name": "stdout",
     "output_type": "stream",
     "text": [
      "[[1, 2, 3], [1, 2, 4]]\n"
     ]
    }
   ],
   "source": [
    "print(m.mat)"
   ]
  },
  {
   "cell_type": "code",
   "execution_count": 5079,
   "id": "a5399849",
   "metadata": {},
   "outputs": [
    {
     "name": "stdout",
     "output_type": "stream",
     "text": [
      "[2, 3]\n"
     ]
    }
   ],
   "source": [
    "print(m.dim)"
   ]
  },
  {
   "cell_type": "markdown",
   "id": "12e3a3af",
   "metadata": {},
   "source": [
    "__2. str, repr, and is_square__"
   ]
  },
  {
   "cell_type": "code",
   "execution_count": 5080,
   "id": "7e66d517",
   "metadata": {},
   "outputs": [
    {
     "data": {
      "text/plain": [
       "Matrix dimension [2, 3]"
      ]
     },
     "execution_count": 5080,
     "metadata": {},
     "output_type": "execute_result"
    }
   ],
   "source": [
    "m"
   ]
  },
  {
   "cell_type": "code",
   "execution_count": 5081,
   "id": "2b3b293b",
   "metadata": {},
   "outputs": [
    {
     "name": "stdout",
     "output_type": "stream",
     "text": [
      "[1, 2, 3]\n",
      "[1, 2, 4]\n",
      "\n"
     ]
    }
   ],
   "source": [
    "print(m)"
   ]
  },
  {
   "cell_type": "code",
   "execution_count": 5082,
   "id": "1a223107",
   "metadata": {},
   "outputs": [],
   "source": [
    "m1 = Matrix([1,2,3,1,2,4], 2)\n",
    "m2 = Matrix([-2,-1,2,2,1,4,-3,3,-1], 3)"
   ]
  },
  {
   "cell_type": "code",
   "execution_count": 5083,
   "id": "a2dcc13f",
   "metadata": {},
   "outputs": [
    {
     "name": "stdout",
     "output_type": "stream",
     "text": [
      "False\n"
     ]
    }
   ],
   "source": [
    "print(m1.is_square())"
   ]
  },
  {
   "cell_type": "code",
   "execution_count": 5084,
   "id": "ddbb56ce",
   "metadata": {},
   "outputs": [
    {
     "name": "stdout",
     "output_type": "stream",
     "text": [
      "True\n"
     ]
    }
   ],
   "source": [
    "print(m2.is_square())"
   ]
  },
  {
   "cell_type": "markdown",
   "id": "e0a10daa",
   "metadata": {},
   "source": [
    "__3. add and sub__ "
   ]
  },
  {
   "cell_type": "code",
   "execution_count": 5085,
   "id": "40d8b449",
   "metadata": {},
   "outputs": [],
   "source": [
    "m = Matrix([1,2,3,1,2,4], 2)\n",
    "t =  Matrix([1,2,3,1,2,4], 2)"
   ]
  },
  {
   "cell_type": "code",
   "execution_count": 5086,
   "id": "55be2bfc",
   "metadata": {},
   "outputs": [
    {
     "name": "stdout",
     "output_type": "stream",
     "text": [
      "[2, 4, 6]\n",
      "[2, 4, 8]\n",
      "\n"
     ]
    }
   ],
   "source": [
    "print(m+t)"
   ]
  },
  {
   "cell_type": "code",
   "execution_count": 5087,
   "id": "db7d781b",
   "metadata": {},
   "outputs": [
    {
     "name": "stdout",
     "output_type": "stream",
     "text": [
      "[0, 0, 0]\n",
      "[0, 0, 0]\n",
      "\n"
     ]
    }
   ],
   "source": [
    "print(m - t)"
   ]
  },
  {
   "cell_type": "markdown",
   "id": "1c3cdbba",
   "metadata": {},
   "source": [
    "__4. Implement a method for scalar multiplication__"
   ]
  },
  {
   "cell_type": "code",
   "execution_count": 5088,
   "id": "14b11de6",
   "metadata": {},
   "outputs": [],
   "source": [
    "m = Matrix([1,2,3,1,2,4], 2)"
   ]
  },
  {
   "cell_type": "code",
   "execution_count": 5089,
   "id": "fd68ff2d",
   "metadata": {},
   "outputs": [
    {
     "name": "stdout",
     "output_type": "stream",
     "text": [
      "[1, 2, 3]\n",
      "[1, 2, 4]\n",
      "\n"
     ]
    }
   ],
   "source": [
    "print(m)"
   ]
  },
  {
   "cell_type": "code",
   "execution_count": 5090,
   "id": "ed323f30",
   "metadata": {},
   "outputs": [
    {
     "name": "stdout",
     "output_type": "stream",
     "text": [
      "[2, 4, 6]\n",
      "[2, 4, 8]\n",
      "\n"
     ]
    }
   ],
   "source": [
    "print(m*2)"
   ]
  },
  {
   "cell_type": "markdown",
   "id": "dc2f6bae",
   "metadata": {},
   "source": [
    "__5. Implement a method to extract rows (exrow) and columns (excol) of a matrix__"
   ]
  },
  {
   "cell_type": "code",
   "execution_count": 5091,
   "id": "a61734ae",
   "metadata": {},
   "outputs": [],
   "source": [
    "m = Matrix([1,2,3,1,2,4], 2)"
   ]
  },
  {
   "cell_type": "code",
   "execution_count": 5092,
   "id": "b5164871",
   "metadata": {},
   "outputs": [
    {
     "name": "stdout",
     "output_type": "stream",
     "text": [
      "[1, 2, 3]\n",
      "[1, 2, 4]\n",
      "\n"
     ]
    }
   ],
   "source": [
    "print(m)"
   ]
  },
  {
   "cell_type": "code",
   "execution_count": 5093,
   "id": "34c91487",
   "metadata": {},
   "outputs": [
    {
     "name": "stdout",
     "output_type": "stream",
     "text": [
      "[1, 2, 3]\n"
     ]
    }
   ],
   "source": [
    "print(m.exrow(0))"
   ]
  },
  {
   "cell_type": "code",
   "execution_count": 5094,
   "id": "9cbd57a3",
   "metadata": {},
   "outputs": [
    {
     "name": "stdout",
     "output_type": "stream",
     "text": [
      "[1, 2, 4]\n"
     ]
    }
   ],
   "source": [
    "print(m.exrow(1))"
   ]
  },
  {
   "cell_type": "code",
   "execution_count": 5095,
   "id": "db9658eb",
   "metadata": {},
   "outputs": [
    {
     "ename": "ValueError",
     "evalue": "Error. Invalid row.",
     "output_type": "error",
     "traceback": [
      "\u001b[0;31m---------------------------------------------------------------------------\u001b[0m",
      "\u001b[0;31mValueError\u001b[0m                                Traceback (most recent call last)",
      "\u001b[0;32m<ipython-input-5095-4a5150ac3995>\u001b[0m in \u001b[0;36m<module>\u001b[0;34m\u001b[0m\n\u001b[0;32m----> 1\u001b[0;31m \u001b[0mprint\u001b[0m\u001b[0;34m(\u001b[0m\u001b[0mm\u001b[0m\u001b[0;34m.\u001b[0m\u001b[0mexrow\u001b[0m\u001b[0;34m(\u001b[0m\u001b[0;36m2\u001b[0m\u001b[0;34m)\u001b[0m\u001b[0;34m)\u001b[0m\u001b[0;34m\u001b[0m\u001b[0;34m\u001b[0m\u001b[0m\n\u001b[0m",
      "\u001b[0;32m<ipython-input-5076-65ca0c0dee45>\u001b[0m in \u001b[0;36mexrow\u001b[0;34m(self, i)\u001b[0m\n\u001b[1;32m    142\u001b[0m             \u001b[0mnew9\u001b[0m \u001b[0;34m=\u001b[0m \u001b[0;34m[\u001b[0m\u001b[0;34m]\u001b[0m\u001b[0;34m\u001b[0m\u001b[0;34m\u001b[0m\u001b[0m\n\u001b[1;32m    143\u001b[0m             \u001b[0;32mif\u001b[0m \u001b[0mi\u001b[0m \u001b[0;34m>\u001b[0m \u001b[0;34m(\u001b[0m\u001b[0mlen\u001b[0m\u001b[0;34m(\u001b[0m\u001b[0mself\u001b[0m\u001b[0;34m.\u001b[0m\u001b[0mmat\u001b[0m\u001b[0;34m)\u001b[0m\u001b[0;34m-\u001b[0m\u001b[0;36m1\u001b[0m\u001b[0;34m)\u001b[0m \u001b[0;32mor\u001b[0m \u001b[0mi\u001b[0m \u001b[0;34m<\u001b[0m \u001b[0;36m0\u001b[0m\u001b[0;34m:\u001b[0m\u001b[0;34m\u001b[0m\u001b[0;34m\u001b[0m\u001b[0m\n\u001b[0;32m--> 144\u001b[0;31m                 \u001b[0;32mraise\u001b[0m \u001b[0mValueError\u001b[0m\u001b[0;34m(\u001b[0m\u001b[0;34m'Error. Invalid row.'\u001b[0m\u001b[0;34m)\u001b[0m\u001b[0;34m\u001b[0m\u001b[0;34m\u001b[0m\u001b[0m\n\u001b[0m\u001b[1;32m    145\u001b[0m             \u001b[0;32melse\u001b[0m\u001b[0;34m:\u001b[0m\u001b[0;34m\u001b[0m\u001b[0;34m\u001b[0m\u001b[0m\n\u001b[1;32m    146\u001b[0m                 \u001b[0;32mfor\u001b[0m \u001b[0mk\u001b[0m \u001b[0;32min\u001b[0m \u001b[0mrange\u001b[0m\u001b[0;34m(\u001b[0m\u001b[0mlen\u001b[0m\u001b[0;34m(\u001b[0m\u001b[0mself\u001b[0m\u001b[0;34m.\u001b[0m\u001b[0mmat\u001b[0m\u001b[0;34m[\u001b[0m\u001b[0mi\u001b[0m\u001b[0;34m]\u001b[0m\u001b[0;34m)\u001b[0m\u001b[0;34m)\u001b[0m\u001b[0;34m:\u001b[0m\u001b[0;34m\u001b[0m\u001b[0;34m\u001b[0m\u001b[0m\n",
      "\u001b[0;31mValueError\u001b[0m: Error. Invalid row."
     ]
    }
   ],
   "source": [
    "print(m.exrow(2))"
   ]
  },
  {
   "cell_type": "code",
   "execution_count": 5096,
   "id": "76cfe4d0",
   "metadata": {},
   "outputs": [
    {
     "name": "stdout",
     "output_type": "stream",
     "text": [
      "[1, 1]\n"
     ]
    }
   ],
   "source": [
    "print(m.excol(0))"
   ]
  },
  {
   "cell_type": "code",
   "execution_count": 5097,
   "id": "4bfaf446",
   "metadata": {},
   "outputs": [
    {
     "name": "stdout",
     "output_type": "stream",
     "text": [
      "[3, 4]\n"
     ]
    }
   ],
   "source": [
    "print(m.excol(2))"
   ]
  },
  {
   "cell_type": "code",
   "execution_count": 5098,
   "id": "d6089572",
   "metadata": {},
   "outputs": [
    {
     "ename": "ValueError",
     "evalue": "Error. Invalid column.",
     "output_type": "error",
     "traceback": [
      "\u001b[0;31m---------------------------------------------------------------------------\u001b[0m",
      "\u001b[0;31mValueError\u001b[0m                                Traceback (most recent call last)",
      "\u001b[0;32m<ipython-input-5098-80ca73281c92>\u001b[0m in \u001b[0;36m<module>\u001b[0;34m\u001b[0m\n\u001b[0;32m----> 1\u001b[0;31m \u001b[0mprint\u001b[0m\u001b[0;34m(\u001b[0m\u001b[0mm\u001b[0m\u001b[0;34m.\u001b[0m\u001b[0mexcol\u001b[0m\u001b[0;34m(\u001b[0m\u001b[0;36m3\u001b[0m\u001b[0;34m)\u001b[0m\u001b[0;34m)\u001b[0m\u001b[0;34m\u001b[0m\u001b[0;34m\u001b[0m\u001b[0m\n\u001b[0m",
      "\u001b[0;32m<ipython-input-5076-65ca0c0dee45>\u001b[0m in \u001b[0;36mexcol\u001b[0;34m(self, i)\u001b[0m\n\u001b[1;32m    165\u001b[0m         \u001b[0;32mfor\u001b[0m \u001b[0mj\u001b[0m \u001b[0;32min\u001b[0m \u001b[0mrange\u001b[0m\u001b[0;34m(\u001b[0m\u001b[0;36m0\u001b[0m\u001b[0;34m,\u001b[0m \u001b[0mint\u001b[0m\u001b[0;34m(\u001b[0m\u001b[0mlen\u001b[0m\u001b[0;34m(\u001b[0m\u001b[0mself\u001b[0m\u001b[0;34m.\u001b[0m\u001b[0mmat\u001b[0m\u001b[0;34m[\u001b[0m\u001b[0;36m0\u001b[0m\u001b[0;34m]\u001b[0m\u001b[0;34m)\u001b[0m\u001b[0;34m)\u001b[0m\u001b[0;34m)\u001b[0m\u001b[0;34m:\u001b[0m\u001b[0;34m\u001b[0m\u001b[0;34m\u001b[0m\u001b[0m\n\u001b[1;32m    166\u001b[0m             \u001b[0;32mif\u001b[0m \u001b[0mi\u001b[0m \u001b[0;34m>\u001b[0m \u001b[0mint\u001b[0m\u001b[0;34m(\u001b[0m\u001b[0mlen\u001b[0m\u001b[0;34m(\u001b[0m\u001b[0mself\u001b[0m\u001b[0;34m.\u001b[0m\u001b[0mmat\u001b[0m\u001b[0;34m[\u001b[0m\u001b[0;36m0\u001b[0m\u001b[0;34m]\u001b[0m\u001b[0;34m)\u001b[0m\u001b[0;34m-\u001b[0m\u001b[0;36m1\u001b[0m\u001b[0;34m)\u001b[0m \u001b[0;32mor\u001b[0m \u001b[0mi\u001b[0m \u001b[0;34m<\u001b[0m \u001b[0;36m0\u001b[0m\u001b[0;34m:\u001b[0m\u001b[0;34m\u001b[0m\u001b[0;34m\u001b[0m\u001b[0m\n\u001b[0;32m--> 167\u001b[0;31m                 \u001b[0;32mraise\u001b[0m \u001b[0mValueError\u001b[0m\u001b[0;34m(\u001b[0m\u001b[0;34m'Error. Invalid column.'\u001b[0m\u001b[0;34m)\u001b[0m\u001b[0;34m\u001b[0m\u001b[0;34m\u001b[0m\u001b[0m\n\u001b[0m\u001b[1;32m    168\u001b[0m             \u001b[0;32melse\u001b[0m\u001b[0;34m:\u001b[0m\u001b[0;34m\u001b[0m\u001b[0;34m\u001b[0m\u001b[0m\n\u001b[1;32m    169\u001b[0m                 \u001b[0mnew1\u001b[0m \u001b[0;34m=\u001b[0m \u001b[0;34m[\u001b[0m\u001b[0;34m]\u001b[0m\u001b[0;34m\u001b[0m\u001b[0;34m\u001b[0m\u001b[0m\n",
      "\u001b[0;31mValueError\u001b[0m: Error. Invalid column."
     ]
    }
   ],
   "source": [
    "print(m.excol(3))"
   ]
  },
  {
   "cell_type": "markdown",
   "id": "255aeb62",
   "metadata": {},
   "source": [
    "__6. Implement the matrix multiplication method__"
   ]
  },
  {
   "cell_type": "code",
   "execution_count": 5099,
   "id": "6af20918",
   "metadata": {},
   "outputs": [],
   "source": [
    "m1 = Matrix([1,2,3,4,5,6,7,8,9], 3)\n",
    "m2 = Matrix([1,2,3,1,2,4], 3)"
   ]
  },
  {
   "cell_type": "code",
   "execution_count": 5100,
   "id": "28871b24",
   "metadata": {},
   "outputs": [
    {
     "name": "stdout",
     "output_type": "stream",
     "text": [
      "[1, 2, 3]\n",
      "[4, 5, 6]\n",
      "[7, 8, 9]\n",
      "\n"
     ]
    }
   ],
   "source": [
    "print(m1)"
   ]
  },
  {
   "cell_type": "code",
   "execution_count": 5101,
   "id": "6a712912",
   "metadata": {},
   "outputs": [
    {
     "name": "stdout",
     "output_type": "stream",
     "text": [
      "[1, 2]\n",
      "[3, 1]\n",
      "[2, 4]\n",
      "\n"
     ]
    }
   ],
   "source": [
    "print(m2)"
   ]
  },
  {
   "cell_type": "code",
   "execution_count": 5102,
   "id": "a116e879",
   "metadata": {},
   "outputs": [
    {
     "name": "stdout",
     "output_type": "stream",
     "text": [
      "[13, 16]\n",
      "[31, 37]\n",
      "[49, 58]\n",
      "\n"
     ]
    }
   ],
   "source": [
    "print(m1 ** m2)"
   ]
  },
  {
   "cell_type": "code",
   "execution_count": 5103,
   "id": "13a07de6",
   "metadata": {},
   "outputs": [
    {
     "ename": "ValueError",
     "evalue": "Error. Matrices do not conform for multiplication.",
     "output_type": "error",
     "traceback": [
      "\u001b[0;31m---------------------------------------------------------------------------\u001b[0m",
      "\u001b[0;31mValueError\u001b[0m                                Traceback (most recent call last)",
      "\u001b[0;32m<ipython-input-5103-e84a5d46cf91>\u001b[0m in \u001b[0;36m<module>\u001b[0;34m\u001b[0m\n\u001b[0;32m----> 1\u001b[0;31m \u001b[0mprint\u001b[0m\u001b[0;34m(\u001b[0m\u001b[0mm2\u001b[0m \u001b[0;34m**\u001b[0m \u001b[0mm1\u001b[0m\u001b[0;34m)\u001b[0m\u001b[0;34m\u001b[0m\u001b[0;34m\u001b[0m\u001b[0m\n\u001b[0m",
      "\u001b[0;32m<ipython-input-5076-65ca0c0dee45>\u001b[0m in \u001b[0;36m__pow__\u001b[0;34m(self, other)\u001b[0m\n\u001b[1;32m    190\u001b[0m         \u001b[0mtotal\u001b[0m \u001b[0;34m=\u001b[0m \u001b[0;36m0\u001b[0m\u001b[0;34m\u001b[0m\u001b[0;34m\u001b[0m\u001b[0m\n\u001b[1;32m    191\u001b[0m         \u001b[0;32mif\u001b[0m \u001b[0mother\u001b[0m\u001b[0;34m.\u001b[0m\u001b[0mnrow\u001b[0m \u001b[0;34m!=\u001b[0m \u001b[0mlen\u001b[0m\u001b[0;34m(\u001b[0m\u001b[0mself\u001b[0m\u001b[0;34m.\u001b[0m\u001b[0mmat\u001b[0m\u001b[0;34m[\u001b[0m\u001b[0;36m0\u001b[0m\u001b[0;34m]\u001b[0m\u001b[0;34m)\u001b[0m\u001b[0;34m:\u001b[0m\u001b[0;34m\u001b[0m\u001b[0;34m\u001b[0m\u001b[0m\n\u001b[0;32m--> 192\u001b[0;31m             \u001b[0;32mraise\u001b[0m \u001b[0mValueError\u001b[0m\u001b[0;34m(\u001b[0m\u001b[0;34m'Error. Matrices do not conform for multiplication.'\u001b[0m\u001b[0;34m)\u001b[0m\u001b[0;34m\u001b[0m\u001b[0;34m\u001b[0m\u001b[0m\n\u001b[0m\u001b[1;32m    193\u001b[0m         \u001b[0;32melse\u001b[0m\u001b[0;34m:\u001b[0m\u001b[0;34m\u001b[0m\u001b[0;34m\u001b[0m\u001b[0m\n\u001b[1;32m    194\u001b[0m             \u001b[0;32mfor\u001b[0m \u001b[0mi\u001b[0m \u001b[0;32min\u001b[0m \u001b[0mrange\u001b[0m\u001b[0;34m(\u001b[0m\u001b[0;36m0\u001b[0m\u001b[0;34m,\u001b[0m \u001b[0mlen\u001b[0m\u001b[0;34m(\u001b[0m\u001b[0mself\u001b[0m\u001b[0;34m.\u001b[0m\u001b[0mmat\u001b[0m\u001b[0;34m)\u001b[0m\u001b[0;34m)\u001b[0m\u001b[0;34m:\u001b[0m\u001b[0;34m\u001b[0m\u001b[0;34m\u001b[0m\u001b[0m\n",
      "\u001b[0;31mValueError\u001b[0m: Error. Matrices do not conform for multiplication."
     ]
    }
   ],
   "source": [
    "print(m2 ** m1)"
   ]
  },
  {
   "cell_type": "markdown",
   "id": "bfbac85c",
   "metadata": {},
   "source": [
    "__7. Implement the submatrix method for computing minors (subm)__"
   ]
  },
  {
   "cell_type": "code",
   "execution_count": 5104,
   "id": "c630f760",
   "metadata": {},
   "outputs": [],
   "source": [
    "m = Matrix([1,2,3,4,5,6,7,8,9], 3)"
   ]
  },
  {
   "cell_type": "code",
   "execution_count": 5105,
   "id": "9aeb6d60",
   "metadata": {},
   "outputs": [
    {
     "name": "stdout",
     "output_type": "stream",
     "text": [
      "[1, 2, 3]\n",
      "[4, 5, 6]\n",
      "[7, 8, 9]\n",
      "\n"
     ]
    }
   ],
   "source": [
    "print(m)"
   ]
  },
  {
   "cell_type": "code",
   "execution_count": 5106,
   "id": "e27dbe51",
   "metadata": {},
   "outputs": [
    {
     "name": "stdout",
     "output_type": "stream",
     "text": [
      "[1, 3]\n",
      "[7, 9]\n",
      "\n"
     ]
    }
   ],
   "source": [
    "print(m.subm(1,1))"
   ]
  },
  {
   "cell_type": "markdown",
   "id": "db416e85",
   "metadata": {},
   "source": [
    "__8. Implement the determinant method (det)__"
   ]
  },
  {
   "cell_type": "code",
   "execution_count": 5107,
   "id": "69e7dea0",
   "metadata": {},
   "outputs": [],
   "source": [
    "m = Matrix([-2,-1,2,2,1,4,-3,3,-1], 3)"
   ]
  },
  {
   "cell_type": "code",
   "execution_count": 5108,
   "id": "6e938c03",
   "metadata": {},
   "outputs": [
    {
     "name": "stdout",
     "output_type": "stream",
     "text": [
      "54\n"
     ]
    }
   ],
   "source": [
    "print(m.det())"
   ]
  },
  {
   "cell_type": "code",
   "execution_count": 5109,
   "id": "894a0452",
   "metadata": {},
   "outputs": [],
   "source": [
    "m = Matrix([1,2,3,4,5,6,7,8,9], 3)"
   ]
  },
  {
   "cell_type": "code",
   "execution_count": 5110,
   "id": "207d8d91",
   "metadata": {},
   "outputs": [
    {
     "name": "stdout",
     "output_type": "stream",
     "text": [
      "0\n"
     ]
    }
   ],
   "source": [
    "print(m.det())"
   ]
  },
  {
   "cell_type": "code",
   "execution_count": 5111,
   "id": "ded8d37a",
   "metadata": {},
   "outputs": [],
   "source": [
    "m = Matrix([3,1,2,2], 2)"
   ]
  },
  {
   "cell_type": "code",
   "execution_count": 5112,
   "id": "aa5e45ba",
   "metadata": {},
   "outputs": [
    {
     "name": "stdout",
     "output_type": "stream",
     "text": [
      "4\n"
     ]
    }
   ],
   "source": [
    "print(m.det())"
   ]
  },
  {
   "cell_type": "markdown",
   "id": "c4fc34ee",
   "metadata": {},
   "source": [
    "__9. Implement the cofactor matrix calculator (cofm) and the transpose calculator (t)__"
   ]
  },
  {
   "cell_type": "code",
   "execution_count": 5113,
   "id": "a510f2ff",
   "metadata": {},
   "outputs": [],
   "source": [
    "m = Matrix([1,2,3,4,5,6,7,8,9], 3)"
   ]
  },
  {
   "cell_type": "code",
   "execution_count": 5114,
   "id": "c2c678c5",
   "metadata": {},
   "outputs": [
    {
     "name": "stdout",
     "output_type": "stream",
     "text": [
      "[1, 2, 3]\n",
      "[4, 5, 6]\n",
      "[7, 8, 9]\n",
      "\n"
     ]
    }
   ],
   "source": [
    "print(m)"
   ]
  },
  {
   "cell_type": "code",
   "execution_count": 5115,
   "id": "340954f8",
   "metadata": {},
   "outputs": [
    {
     "name": "stdout",
     "output_type": "stream",
     "text": [
      "[-3, 6, -3]\n",
      "[6, -12, 6]\n",
      "[-3, 6, -3]\n",
      "\n"
     ]
    }
   ],
   "source": [
    "print(m.cofm())"
   ]
  },
  {
   "cell_type": "code",
   "execution_count": 5116,
   "id": "8ade3e75",
   "metadata": {},
   "outputs": [],
   "source": [
    "m = Matrix([-2, -1, 2, 2, 1, 4, -3, 3, -1], 3)"
   ]
  },
  {
   "cell_type": "code",
   "execution_count": 5117,
   "id": "e99800fd",
   "metadata": {},
   "outputs": [
    {
     "name": "stdout",
     "output_type": "stream",
     "text": [
      "[-2, -1, 2]\n",
      "[2, 1, 4]\n",
      "[-3, 3, -1]\n",
      "\n"
     ]
    }
   ],
   "source": [
    "print(m)"
   ]
  },
  {
   "cell_type": "code",
   "execution_count": 5118,
   "id": "74396cbc",
   "metadata": {},
   "outputs": [
    {
     "name": "stdout",
     "output_type": "stream",
     "text": [
      "[-13, -10, 9]\n",
      "[5, 8, 9]\n",
      "[-6, 12, 0]\n",
      "\n"
     ]
    }
   ],
   "source": [
    "print(m.cofm())"
   ]
  },
  {
   "cell_type": "code",
   "execution_count": 5119,
   "id": "bdfb0f6d",
   "metadata": {},
   "outputs": [
    {
     "name": "stdout",
     "output_type": "stream",
     "text": [
      "[-13, 5, -6]\n",
      "[-10, 8, 12]\n",
      "[9, 9, 0]\n",
      "\n"
     ]
    }
   ],
   "source": [
    "print(m.cofm().t())"
   ]
  },
  {
   "cell_type": "markdown",
   "id": "90ab4c9f",
   "metadata": {},
   "source": [
    "__10. Compute the inverse matrix calculator (inv)__"
   ]
  },
  {
   "cell_type": "code",
   "execution_count": 5120,
   "id": "0b297581",
   "metadata": {},
   "outputs": [
    {
     "name": "stdout",
     "output_type": "stream",
     "text": [
      "[-0.24074074074074073, 0.09259259259259259, -0.1111111111111111]\n",
      "[-0.18518518518518517, 0.14814814814814814, 0.2222222222222222]\n",
      "[0.16666666666666666, 0.16666666666666666, 0.0]\n",
      "\n"
     ]
    }
   ],
   "source": [
    "print(m.inv())"
   ]
  },
  {
   "cell_type": "markdown",
   "id": "81674c1f",
   "metadata": {},
   "source": [
    "__11. Compute the regression coefficients for the following matrix__"
   ]
  },
  {
   "cell_type": "code",
   "execution_count": 5121,
   "id": "8b9aaf5a",
   "metadata": {},
   "outputs": [],
   "source": [
    "X = Matrix([1, -4, 0, 1, -3, 0, 1, -2, 0, 1, -1, 0, 1, 0, 0, 1, 1, 1, 1, 2, 1, 1, 3, 1, 1, 4, 1, 1, 5, 1], 10)"
   ]
  },
  {
   "cell_type": "code",
   "execution_count": 5122,
   "id": "90eed07a",
   "metadata": {},
   "outputs": [],
   "source": [
    "y = Matrix([-3.56518269407931, -2.96460021969053, -1.48659413971178, 0.700322671620325, 0.902347734124384, 1.29721825127923, 1.92302031156774, 3.88376671356276, 2.23958110933972, 6.5610333044646], 10)"
   ]
  },
  {
   "cell_type": "code",
   "execution_count": 5123,
   "id": "307a4ce8",
   "metadata": {},
   "outputs": [
    {
     "name": "stdout",
     "output_type": "stream",
     "text": [
      "[1.0616761356387157]\n",
      "[1.1722087325930484]\n",
      "[-1.3973783953750496]\n",
      "\n"
     ]
    }
   ],
   "source": [
    "transposed = X.t()\n",
    "multiplied = transposed ** X\n",
    "inverse = multiplied.inv()\n",
    "multiplied2 = inverse ** transposed\n",
    "coefficients = multiplied2 ** y\n",
    "print(coefficients)"
   ]
  }
 ],
 "metadata": {
  "kernelspec": {
   "display_name": "Python 3",
   "language": "python",
   "name": "python3"
  },
  "language_info": {
   "codemirror_mode": {
    "name": "ipython",
    "version": 3
   },
   "file_extension": ".py",
   "mimetype": "text/x-python",
   "name": "python",
   "nbconvert_exporter": "python",
   "pygments_lexer": "ipython3",
   "version": "3.8.8"
  }
 },
 "nbformat": 4,
 "nbformat_minor": 5
}
